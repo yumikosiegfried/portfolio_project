{
 "cells": [
  {
   "cell_type": "markdown",
   "id": "bdc21dc4-2a19-4009-8c04-7ec6d01dd737",
   "metadata": {},
   "source": [
    "# AB Test Simulation in Python"
   ]
  },
  {
   "cell_type": "markdown",
   "id": "417901a5-89c5-47d7-8cea-39cb4325e7b5",
   "metadata": {},
   "source": [
    "## Overview of Tasks in This Notebook\n",
    "\n",
    "- Simulate 10,000 users randomly assigned to treatment/control\n",
    "- Conversion rate in treatment group increased by 2 percentage points\n",
    "- Conduct z-test for difference in proportions"
   ]
  },
  {
   "cell_type": "code",
   "execution_count": 1,
   "id": "77162180-0659-41be-ac6e-46fb2ec909c0",
   "metadata": {},
   "outputs": [],
   "source": [
    "#Import necessary libraries\n",
    "import pandas as pd\n",
    "import numpy as np\n",
    "import matplotlib.pyplot as plt\n",
    "import seaborn as sns\n",
    "from statsmodels.stats.proportion import proportions_ztest"
   ]
  },
  {
   "cell_type": "code",
   "execution_count": 2,
   "id": "52780041-a0d4-41f3-ba4a-9dde0317d9e5",
   "metadata": {},
   "outputs": [],
   "source": [
    "#Simulate dataset\n",
    "\n",
    "#Set seed\n",
    "np.random.seed(101)\n",
    "\n",
    "#10000 users\n",
    "n = 10000\n",
    "\n",
    "#Conversion rate for control group = 10%\n",
    "#Conversion rate for treatment group = 12%\n",
    "base_conversion = 0.10\n",
    "lift = 0.02\n",
    "treatment_conversion = base_conversion + lift"
   ]
  },
  {
   "cell_type": "code",
   "execution_count": 3,
   "id": "0cf2e9bd-e462-496d-a377-9312c91c42c6",
   "metadata": {},
   "outputs": [],
   "source": [
    "#Randomly assign users to control or treatment groups (equal chance)\n",
    "group = np.random.choice(['control', 'treatment'], size = n)"
   ]
  },
  {
   "cell_type": "code",
   "execution_count": 4,
   "id": "979168fe-570e-4f5a-9e04-494921c94120",
   "metadata": {},
   "outputs": [],
   "source": [
    "#Simulate conversion (True/False) using list comprehension\n",
    "converted = [\n",
    "    np.random.rand() < base_conversion if g == 'control'\n",
    "    else np.random.rand() < treatment_conversion\n",
    "    for g in group\n",
    "]"
   ]
  },
  {
   "cell_type": "code",
   "execution_count": 5,
   "id": "ba550bfb-08d8-48a8-a06d-be3916330bf0",
   "metadata": {},
   "outputs": [],
   "source": [
    "#Check the distribution of treatment vs control in the simulated data\n",
    "#pd.Series(group).value_counts().plot(kind = 'bar')"
   ]
  },
  {
   "cell_type": "code",
   "execution_count": 6,
   "id": "b174e9fb-295c-42e8-9790-e06892d70351",
   "metadata": {},
   "outputs": [],
   "source": [
    "#Check the distribution of treatment vs control in the simulated data\n",
    "#pd.Series(converted).value_counts().plot(kind = 'bar')"
   ]
  },
  {
   "cell_type": "code",
   "execution_count": 7,
   "id": "776498e7-218b-441d-a3e7-2980bd30fd4e",
   "metadata": {},
   "outputs": [],
   "source": [
    "#Add a column called 'channel' to indicate which communication method was used for marketing\n",
    "#I will use this for subgroup analyses in the future\n",
    "channel = np.random.choice(['email', 'social', 'search'], size = n)"
   ]
  },
  {
   "cell_type": "code",
   "execution_count": 8,
   "id": "9e6f9199-6321-45f9-820b-d14917f9868e",
   "metadata": {},
   "outputs": [],
   "source": [
    "#pd.Series(channel).value_counts().plot(kind = 'bar')"
   ]
  },
  {
   "cell_type": "code",
   "execution_count": 9,
   "id": "9ca963c1-04a8-484a-adb2-8dd20d6bbcd8",
   "metadata": {},
   "outputs": [],
   "source": [
    "#Combine the arrays and make the result into a DataFrame using a dictionary\n",
    "df = pd.DataFrame({\n",
    "    'user_id': range(1, n+1),\n",
    "    'group': group,\n",
    "    'converted': converted,\n",
    "    'channel': channel\n",
    "})"
   ]
  },
  {
   "cell_type": "code",
   "execution_count": 10,
   "id": "137660ef-28e8-4d61-b8f3-f6ba3b50f92a",
   "metadata": {},
   "outputs": [],
   "source": [
    "#Save df permanently\n",
    "df.to_csv('../data/ab_data.csv', index=False)"
   ]
  },
  {
   "cell_type": "code",
   "execution_count": 11,
   "id": "98a435ce-467d-4444-b85a-9bf54f41deb1",
   "metadata": {},
   "outputs": [
    {
     "data": {
      "text/html": [
       "<div>\n",
       "<style scoped>\n",
       "    .dataframe tbody tr th:only-of-type {\n",
       "        vertical-align: middle;\n",
       "    }\n",
       "\n",
       "    .dataframe tbody tr th {\n",
       "        vertical-align: top;\n",
       "    }\n",
       "\n",
       "    .dataframe thead th {\n",
       "        text-align: right;\n",
       "    }\n",
       "</style>\n",
       "<table border=\"1\" class=\"dataframe\">\n",
       "  <thead>\n",
       "    <tr style=\"text-align: right;\">\n",
       "      <th></th>\n",
       "      <th>user_id</th>\n",
       "      <th>group</th>\n",
       "      <th>converted</th>\n",
       "      <th>channel</th>\n",
       "    </tr>\n",
       "  </thead>\n",
       "  <tbody>\n",
       "    <tr>\n",
       "      <th>0</th>\n",
       "      <td>1</td>\n",
       "      <td>treatment</td>\n",
       "      <td>False</td>\n",
       "      <td>social</td>\n",
       "    </tr>\n",
       "    <tr>\n",
       "      <th>1</th>\n",
       "      <td>2</td>\n",
       "      <td>treatment</td>\n",
       "      <td>True</td>\n",
       "      <td>social</td>\n",
       "    </tr>\n",
       "    <tr>\n",
       "      <th>2</th>\n",
       "      <td>3</td>\n",
       "      <td>treatment</td>\n",
       "      <td>False</td>\n",
       "      <td>email</td>\n",
       "    </tr>\n",
       "    <tr>\n",
       "      <th>3</th>\n",
       "      <td>4</td>\n",
       "      <td>control</td>\n",
       "      <td>True</td>\n",
       "      <td>social</td>\n",
       "    </tr>\n",
       "    <tr>\n",
       "      <th>4</th>\n",
       "      <td>5</td>\n",
       "      <td>treatment</td>\n",
       "      <td>False</td>\n",
       "      <td>search</td>\n",
       "    </tr>\n",
       "  </tbody>\n",
       "</table>\n",
       "</div>"
      ],
      "text/plain": [
       "   user_id      group  converted channel\n",
       "0        1  treatment      False  social\n",
       "1        2  treatment       True  social\n",
       "2        3  treatment      False   email\n",
       "3        4    control       True  social\n",
       "4        5  treatment      False  search"
      ]
     },
     "execution_count": 11,
     "metadata": {},
     "output_type": "execute_result"
    }
   ],
   "source": [
    "df.head()"
   ]
  },
  {
   "cell_type": "code",
   "execution_count": 12,
   "id": "df5305f0-af5d-4e37-94cc-ded0dbc63f9c",
   "metadata": {},
   "outputs": [
    {
     "name": "stdout",
     "output_type": "stream",
     "text": [
      "           sum  count      rate\n",
      "group                          \n",
      "control    477   4924  0.096872\n",
      "treatment  611   5076  0.120370\n"
     ]
    }
   ],
   "source": [
    "#Calculate conversion rates by treatment vs control\n",
    "#Save the result in an object dfsummary\n",
    "dfsummary = df.groupby('group')['converted'].agg(['sum', 'count'])\n",
    "dfsummary['rate'] = dfsummary['sum']/dfsummary['count']\n",
    "print(dfsummary)"
   ]
  },
  {
   "cell_type": "code",
   "execution_count": 13,
   "id": "1f342968-ed52-4737-b9f2-f53902b8890c",
   "metadata": {},
   "outputs": [
    {
     "name": "stdout",
     "output_type": "stream",
     "text": [
      "\n",
      "Z-statistic: -3.773\n",
      "P-value:  0.0002\n"
     ]
    }
   ],
   "source": [
    "#Run z-test for difference in proportions\n",
    "z_stat, p_val = proportions_ztest(count = dfsummary['sum'], nobs = dfsummary['count'])\n",
    "\n",
    "#Print z-score\n",
    "print(f\"\\nZ-statistic: {z_stat: .3f}\")\n",
    "\n",
    "#Print corresponding p-value\n",
    "print(f\"P-value: {p_val: .4f}\")"
   ]
  },
  {
   "cell_type": "code",
   "execution_count": 14,
   "id": "d6960b6a-da32-4bac-8f5a-43d4a77d1f48",
   "metadata": {},
   "outputs": [
    {
     "data": {
      "image/png": "[encoded data removed]",
      "text/plain": [
       "<Figure size 640x480 with 1 Axes>"
      ]
     },
     "metadata": {},
     "output_type": "display_data"
    }
   ],
   "source": [
    "#Plot conversion rates\n",
    "sns.barplot(x = dfsummary.index, y = dfsummary['rate'].values)\n",
    "plt.title('Conversion Rates by Group')\n",
    "plt.xlabel('Group')\n",
    "plt.ylabel('Conversion Rate')\n",
    "plt.ylim(0, 0.15)\n",
    "plt.show()"
   ]
  },
  {
   "cell_type": "code",
   "execution_count": 15,
   "id": "96ad1c3e-9877-4af4-b1ce-12219dc46a8d",
   "metadata": {},
   "outputs": [
    {
     "data": {
      "text/html": [
       "<div>\n",
       "<style scoped>\n",
       "    .dataframe tbody tr th:only-of-type {\n",
       "        vertical-align: middle;\n",
       "    }\n",
       "\n",
       "    .dataframe tbody tr th {\n",
       "        vertical-align: top;\n",
       "    }\n",
       "\n",
       "    .dataframe thead th {\n",
       "        text-align: right;\n",
       "    }\n",
       "</style>\n",
       "<table border=\"1\" class=\"dataframe\">\n",
       "  <thead>\n",
       "    <tr style=\"text-align: right;\">\n",
       "      <th></th>\n",
       "      <th>sum</th>\n",
       "      <th>count</th>\n",
       "      <th>rate</th>\n",
       "    </tr>\n",
       "    <tr>\n",
       "      <th>group</th>\n",
       "      <th></th>\n",
       "      <th></th>\n",
       "      <th></th>\n",
       "    </tr>\n",
       "  </thead>\n",
       "  <tbody>\n",
       "    <tr>\n",
       "      <th>control</th>\n",
       "      <td>477</td>\n",
       "      <td>4924</td>\n",
       "      <td>0.096872</td>\n",
       "    </tr>\n",
       "    <tr>\n",
       "      <th>treatment</th>\n",
       "      <td>611</td>\n",
       "      <td>5076</td>\n",
       "      <td>0.120370</td>\n",
       "    </tr>\n",
       "  </tbody>\n",
       "</table>\n",
       "</div>"
      ],
      "text/plain": [
       "           sum  count      rate\n",
       "group                          \n",
       "control    477   4924  0.096872\n",
       "treatment  611   5076  0.120370"
      ]
     },
     "execution_count": 15,
     "metadata": {},
     "output_type": "execute_result"
    }
   ],
   "source": [
    "dfsummary"
   ]
  },
  {
   "cell_type": "markdown",
   "id": "b0599619-c983-417c-8fbc-930c2e0cfd00",
   "metadata": {},
   "source": [
    "## Conclusion\n",
    "- The simulated A/B test compared conversion rates between control and treatment groups.\n",
    "- The treatment group had a conversion rate of **12.0%**, compared to **9.7%** in the control group.\n",
    "- A z-test for proportions yielded a p-value of **0.0002**, indicating a statistically significant increase at the significance level of 0.05.\n",
    "- This suggests that the treatment had a **positive and statistically significant effect** on the conversion rate.\n",
    "- Additional subgroup or logistic regression analysis could be explored in future iterations."
   ]
  },
  {
   "cell_type": "markdown",
   "id": "5421a45e-b6a7-4f83-b047-43a4f82f6e34",
   "metadata": {},
   "source": [
    "## Recommendation\n",
    "- Based on the results of the experiment, I suggest considering the use of the new marketing campaign if:\n",
    "    - the goal of this new marketing campaign is to increase the conversion rate, and\n",
    "    - the increase of approximately 2% is worth any potential increased cost"
   ]
  },
  {
   "cell_type": "code",
   "execution_count": null,
   "id": "779491d5-2e44-4460-b13a-53165a5ad386",
   "metadata": {},
   "outputs": [],
   "source": []
  }
 ],
 "metadata": {
  "kernelspec": {
   "display_name": "Python (portfolioenv)",
   "language": "python",
   "name": "portfolioenv"
  },
  "language_info": {
   "codemirror_mode": {
    "name": "ipython",
    "version": 3
   },
   "file_extension": ".py",
   "mimetype": "text/x-python",
   "name": "python",
   "nbconvert_exporter": "python",
   "pygments_lexer": "ipython3",
   "version": "3.12.7"
  }
 },
 "nbformat": 4,
 "nbformat_minor": 5
}
