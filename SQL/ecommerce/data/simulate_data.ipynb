{
 "cells": [
  {
   "cell_type": "code",
   "execution_count": 1,
   "id": "d22e2e82-c766-4843-ac46-aea933a6c9a9",
   "metadata": {},
   "outputs": [],
   "source": [
    "#Simulate input data for e-commerce project"
   ]
  },
  {
   "cell_type": "code",
   "execution_count": 2,
   "id": "8ad44767-7d64-45bd-8da4-ce3e0582c42c",
   "metadata": {},
   "outputs": [],
   "source": [
    "#Import libraries\n",
    "import pandas as pd\n",
    "import numpy as np\n",
    "from faker import Faker\n",
    "import random\n",
    "from datetime import timedelta"
   ]
  },
  {
   "cell_type": "code",
   "execution_count": 3,
   "id": "7e1e1f78-f334-4e71-9baa-4f02cd72e320",
   "metadata": {},
   "outputs": [],
   "source": [
    "#Set up simulation\n",
    "#Instantiate Faker object\n",
    "fake = Faker()\n",
    "\n",
    "#Set a random seed for numpy random functions\n",
    "np.random.seed(42)\n",
    "\n",
    "#Set a random seed for built-in random modules\n",
    "random.seed(42)"
   ]
  },
  {
   "cell_type": "code",
   "execution_count": 4,
   "id": "69b32f44-1800-4132-9551-6088486a38d0",
   "metadata": {},
   "outputs": [],
   "source": [
    "#Create a dummy dataset USERS\n",
    "#1000 users, sign up date between 2 years ago and today, assign country = US, UK, CA, DE, or JP\n",
    "n_users = 1000\n",
    "user_ids = range(1, n_users + 1)\n",
    "users = pd.DataFrame({\n",
    "    'user_id': user_ids,\n",
    "    'signup_date': [fake.date_between(start_date='-2y', end_date='today') for _ in user_ids],\n",
    "    'country': [random.choice(['US', 'UK', 'CA', 'DE', 'JP']) for _ in user_ids]\n",
    "})\n",
    "users.to_csv('users.csv', index=False)"
   ]
  },
  {
   "cell_type": "code",
   "execution_count": 5,
   "id": "19894565-2243-4a0a-a3fe-0d64343d81d9",
   "metadata": {},
   "outputs": [],
   "source": [
    "#Create a dummy dataset PRODUCTS\n",
    "#100 products, randomly name it from common words\n",
    "#Randomly assign category from Electronics, Clothing, Books, Beauty, or Home\n",
    "#Randomly assign price between $5 and $300\n",
    "#Category and price may not make sense for the chosen product name\n",
    "#If more realistic combinations are desired, specify from which common products/prices a name/price can be chosen for each category\n",
    "n_products = 100\n",
    "product_ids = range(1, n_products + 1)\n",
    "products = pd.DataFrame({\n",
    "    'product_id': product_ids,\n",
    "    'product_name': [fake.word().capitalize() for _ in product_ids],\n",
    "    'category': [random.choice(['Electronics', 'Clothing', 'Books', 'Beauty', 'Home']) for _ in product_ids],\n",
    "    'price': np.round(np.random.uniform(5.0, 300.0, size=n_products), 2)\n",
    "})\n",
    "products.to_csv('products.csv', index=False)"
   ]
  },
  {
   "cell_type": "code",
   "execution_count": 6,
   "id": "922625e9-9e88-4124-82aa-750ef8229407",
   "metadata": {},
   "outputs": [],
   "source": [
    "#Create a dummy dataset ORDERS\n",
    "#10000 orders\n",
    "#Randomly choose user_id and product_id for each order from user_ids and product_ids defined earlier\n",
    "#Randomly assign quantity = 1, 2, or 3\n",
    "#Randomly assign order data between 1 year ago and today\n",
    "n_orders = 10000\n",
    "orders = pd.DataFrame({\n",
    "    'order_id': range(1, n_orders + 1),\n",
    "    'user_id': [random.choice(user_ids) for _ in range(n_orders)],\n",
    "    'product_id': [random.choice(product_ids) for _ in range(n_orders)],\n",
    "    'quantity': np.random.randint(1, 4, size=n_orders),\n",
    "    'order_date': [fake.date_between(start_date='-1y', end_date='today') for _ in range(n_orders)]\n",
    "})\n",
    "orders.to_csv('orders.csv', index=False)"
   ]
  },
  {
   "cell_type": "code",
   "execution_count": 7,
   "id": "9097887b-bc93-4849-a170-5a91f7bd96be",
   "metadata": {},
   "outputs": [],
   "source": [
    "#Create a dummy dataset PAYMENTS\n",
    "#Same number of payment records as the orders\n",
    "#Randomly assign payment method from Credit Card, Paypal, and Gift Card\n",
    "#Calculate the total amount paid\n",
    "payment_methods = ['Credit Card', 'Paypal', 'Gift Card']\n",
    "payments = pd.DataFrame({\n",
    "    'payment_id': range(1, n_orders + 1),\n",
    "    'order_id': range(1, n_orders + 1),\n",
    "    'payment_type': [random.choice(payment_methods) for _ in range(n_orders)],\n",
    "    'amount': orders['quantity'].values * [\n",
    "        products.loc[products['product_id'] == pid, 'price'].values[0] for pid in orders['product_id']\n",
    "    ]\n",
    "})\n",
    "payments['amount'] = payments['amount'].round(2)\n",
    "payments.to_csv('payments.csv', index=False)"
   ]
  },
  {
   "cell_type": "markdown",
   "id": "582d0fbd-6c0b-461b-a7d2-e4c964f39d91",
   "metadata": {},
   "source": [
    "Instead of using list comprehension in amount, I could merge 'price' from products dataset onto orders dataset by 'product_id'\n",
    "\n",
    "orders_price = orders.merge(\n",
    "products[['products_id', 'price']], \n",
    "how = 'left',\n",
    "on = 'products_id'\n",
    ")"
   ]
  },
  {
   "cell_type": "code",
   "execution_count": null,
   "id": "7a495574-e55c-44b7-9c72-b105deb24456",
   "metadata": {},
   "outputs": [],
   "source": []
  }
 ],
 "metadata": {
  "kernelspec": {
   "display_name": "Python [conda env:base] *",
   "language": "python",
   "name": "conda-base-py"
  },
  "language_info": {
   "codemirror_mode": {
    "name": "ipython",
    "version": 3
   },
   "file_extension": ".py",
   "mimetype": "text/x-python",
   "name": "python",
   "nbconvert_exporter": "python",
   "pygments_lexer": "ipython3",
   "version": "3.12.7"
  }
 },
 "nbformat": 4,
 "nbformat_minor": 5
}
